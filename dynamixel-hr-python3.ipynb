{
 "cells": [
  {
   "cell_type": "code",
   "execution_count": 24,
   "metadata": {
    "ExecuteTime": {
     "end_time": "2018-10-18T08:07:27.301109Z",
     "start_time": "2018-10-18T08:07:27.296851Z"
    }
   },
   "outputs": [],
   "source": [
    "import sys\n",
    "#sys.path = ['../../src/dynamixel_hr/dxl_python3'] + sys.path\n",
    "sys.path = ['dxl'] + sys.path"
   ]
  },
  {
   "cell_type": "code",
   "execution_count": 25,
   "metadata": {
    "ExecuteTime": {
     "end_time": "2018-10-18T08:07:27.443580Z",
     "start_time": "2018-10-18T08:07:27.439735Z"
    }
   },
   "outputs": [],
   "source": [
    "import dxlchain as Dxl\n",
    "import logging\n",
    "import numpy as np\n",
    "import time"
   ]
  },
  {
   "cell_type": "code",
   "execution_count": 26,
   "metadata": {
    "ExecuteTime": {
     "end_time": "2018-10-18T08:07:27.588040Z",
     "start_time": "2018-10-18T08:07:27.584370Z"
    }
   },
   "outputs": [],
   "source": [
    "logger = logging.getLogger()\n",
    "# logger.setLevel('DEBUG')\n",
    "#logger.setLevel('WARN')"
   ]
  },
  {
   "cell_type": "code",
   "execution_count": 27,
   "metadata": {
    "ExecuteTime": {
     "end_time": "2018-10-18T08:07:27.879947Z",
     "start_time": "2018-10-18T08:07:27.872520Z"
    }
   },
   "outputs": [
    {
     "data": {
      "text/plain": [
       "<module 'dxlchain' from 'dxl/dxlchain.py'>"
      ]
     },
     "execution_count": 27,
     "metadata": {},
     "output_type": "execute_result"
    }
   ],
   "source": [
    "from importlib import reload\n",
    "reload(Dxl)"
   ]
  },
  {
   "cell_type": "code",
   "execution_count": 30,
   "metadata": {
    "ExecuteTime": {
     "end_time": "2018-10-18T08:07:44.879462Z",
     "start_time": "2018-10-18T08:07:44.875023Z"
    }
   },
   "outputs": [],
   "source": [
    "# Open the serial device\n",
    "chain=Dxl.DxlChain(\"/dev/ttyACM0\",rate=1000000, timeout=0.4)"
   ]
  },
  {
   "cell_type": "code",
   "execution_count": 31,
   "metadata": {
    "ExecuteTime": {
     "end_time": "2018-10-18T08:07:45.815680Z",
     "start_time": "2018-10-18T08:07:45.402646Z"
    },
    "scrolled": true
   },
   "outputs": [
    {
     "name": "stdout",
     "output_type": "stream",
     "text": [
      "[1, 2, 3, 4]\n"
     ]
    }
   ],
   "source": [
    "# Load all the motors and obtain the list of IDs\n",
    "motors=chain.get_motor_list() # Discover all motors on the chain and return their IDs\n",
    "print(motors)"
   ]
  },
  {
   "cell_type": "code",
   "execution_count": 32,
   "metadata": {
    "ExecuteTime": {
     "end_time": "2018-10-18T08:07:46.828541Z",
     "start_time": "2018-10-18T08:07:46.820019Z"
    }
   },
   "outputs": [
    {
     "data": {
      "text/plain": [
       "{1: <dxlmotors.DxlMotorMX64 at 0x7fc3e55fd160>,\n",
       " 2: <dxlmotors.DxlMotorMX28 at 0x7fc3e55fd940>,\n",
       " 3: <dxlmotors.DxlMotorMX28 at 0x7fc3e55fdcf8>,\n",
       " 4: <dxlmotors.DxlMotorMX28 at 0x7fc3e5606860>}"
      ]
     },
     "execution_count": 32,
     "metadata": {},
     "output_type": "execute_result"
    }
   ],
   "source": [
    "chain.motors"
   ]
  },
  {
   "cell_type": "code",
   "execution_count": 33,
   "metadata": {
    "ExecuteTime": {
     "end_time": "2018-10-18T08:07:48.062391Z",
     "start_time": "2018-10-18T08:07:48.055137Z"
    }
   },
   "outputs": [
    {
     "data": {
      "text/plain": [
       "[0, 0, 0, 0]"
      ]
     },
     "execution_count": 33,
     "metadata": {},
     "output_type": "execute_result"
    }
   ],
   "source": [
    "[chain.get_reg(i, 'return_delay') for i in motors]"
   ]
  },
  {
   "cell_type": "code",
   "execution_count": 9,
   "metadata": {
    "ExecuteTime": {
     "end_time": "2018-10-09T07:28:06.740758Z",
     "start_time": "2018-10-09T07:28:06.721096Z"
    }
   },
   "outputs": [
    {
     "data": {
      "text/plain": [
       "[80,\n",
       " 80,\n",
       " 80,\n",
       " 80,\n",
       " 80,\n",
       " 80,\n",
       " 80,\n",
       " 80,\n",
       " 80,\n",
       " 80,\n",
       " 80,\n",
       " 80,\n",
       " 80,\n",
       " 80,\n",
       " 80,\n",
       " 80,\n",
       " 80,\n",
       " 80,\n",
       " 80,\n",
       " 80,\n",
       " 80,\n",
       " 80,\n",
       " 80,\n",
       " 80,\n",
       " 80]"
      ]
     },
     "execution_count": 9,
     "metadata": {},
     "output_type": "execute_result"
    }
   ],
   "source": [
    "[chain.get_reg(i, 'torque_limit') for i in motors]"
   ]
  },
  {
   "cell_type": "code",
   "execution_count": 10,
   "metadata": {
    "ExecuteTime": {
     "end_time": "2018-10-09T07:28:18.266691Z",
     "start_time": "2018-10-09T07:28:18.249595Z"
    }
   },
   "outputs": [],
   "source": [
    "_ = [chain.set_reg(i, 'torque_limit',80) for i in motors]"
   ]
  },
  {
   "cell_type": "code",
   "execution_count": 11,
   "metadata": {
    "ExecuteTime": {
     "end_time": "2018-10-09T07:28:33.744135Z",
     "start_time": "2018-10-09T07:28:33.712784Z"
    }
   },
   "outputs": [],
   "source": [
    "for i in motors:\n",
    "    chain.set_control_mode(i, chain.motors[i].PositionControl)"
   ]
  },
  {
   "cell_type": "code",
   "execution_count": 12,
   "metadata": {
    "ExecuteTime": {
     "end_time": "2018-10-09T07:29:49.092444Z",
     "start_time": "2018-10-09T07:29:49.075100Z"
    }
   },
   "outputs": [],
   "source": [
    "chain.enable()"
   ]
  },
  {
   "cell_type": "code",
   "execution_count": 15,
   "metadata": {
    "ExecuteTime": {
     "end_time": "2018-10-09T07:31:00.313516Z",
     "start_time": "2018-10-09T07:31:00.294893Z"
    }
   },
   "outputs": [],
   "source": [
    "chain.disable()"
   ]
  },
  {
   "cell_type": "code",
   "execution_count": 8,
   "metadata": {},
   "outputs": [],
   "source": [
    "chain.set_reg(5, 'return_delay', 0)"
   ]
  },
  {
   "cell_type": "code",
   "execution_count": 19,
   "metadata": {
    "ExecuteTime": {
     "end_time": "2018-08-14T16:58:23.879049Z",
     "start_time": "2018-08-14T16:58:23.874796Z"
    }
   },
   "outputs": [],
   "source": [
    "chain.set_reg(4, 'moving_speed', 500)"
   ]
  },
  {
   "cell_type": "code",
   "execution_count": 9,
   "metadata": {
    "ExecuteTime": {
     "end_time": "2018-08-14T16:56:54.123080Z",
     "start_time": "2018-08-14T16:56:54.116451Z"
    }
   },
   "outputs": [
    {
     "data": {
      "text/plain": [
       "4095"
      ]
     },
     "execution_count": 9,
     "metadata": {},
     "output_type": "execute_result"
    }
   ],
   "source": [
    "chain.get_reg(4, 'ccw_angle_limit')"
   ]
  },
  {
   "cell_type": "code",
   "execution_count": 17,
   "metadata": {
    "ExecuteTime": {
     "end_time": "2018-08-14T16:58:10.623553Z",
     "start_time": "2018-08-14T16:58:10.616236Z"
    }
   },
   "outputs": [],
   "source": [
    "chain.set_control_mode(4, chain.motors[4].SpeedControl)"
   ]
  },
  {
   "cell_type": "code",
   "execution_count": 20,
   "metadata": {
    "ExecuteTime": {
     "end_time": "2018-08-14T16:58:31.804370Z",
     "start_time": "2018-08-14T16:58:31.796794Z"
    }
   },
   "outputs": [],
   "source": [
    "for i in range(1,5):\n",
    "    chain.set_control_mode(i, chain.motors[i].SpeedControl)"
   ]
  },
  {
   "cell_type": "code",
   "execution_count": 26,
   "metadata": {
    "ExecuteTime": {
     "end_time": "2018-08-14T16:59:44.686316Z",
     "start_time": "2018-08-14T16:59:44.682050Z"
    }
   },
   "outputs": [],
   "source": [
    "chain.sync_write_x(motors, 'moving_speed', [1023] * len(motors))"
   ]
  },
  {
   "cell_type": "code",
   "execution_count": 24,
   "metadata": {
    "ExecuteTime": {
     "end_time": "2018-08-14T16:59:03.158194Z",
     "start_time": "2018-08-14T16:59:03.147147Z"
    }
   },
   "outputs": [],
   "source": [
    "for i in range(1,5):\n",
    "    chain.set_control_mode(i, chain.motors[i].PositionControl)"
   ]
  },
  {
   "cell_type": "code",
   "execution_count": 27,
   "metadata": {
    "ExecuteTime": {
     "end_time": "2018-08-14T16:59:49.384658Z",
     "start_time": "2018-08-14T16:59:49.379340Z"
    }
   },
   "outputs": [],
   "source": [
    "chain.sync_write_x(motors, 'goal_pos', [2000] * len(motors))"
   ]
  },
  {
   "cell_type": "code",
   "execution_count": 55,
   "metadata": {},
   "outputs": [
    {
     "data": {
      "text/plain": [
       "{1: {'goal_pos': 102,\n",
       "  'moving_speed': 100,\n",
       "  'present_load': 0,\n",
       "  'present_position': 101,\n",
       "  'present_speed': 0,\n",
       "  'present_temp': 37,\n",
       "  'present_voltage': 119,\n",
       "  'torque_limit': 1023},\n",
       " 2: {'goal_pos': 101,\n",
       "  'moving_speed': 0,\n",
       "  'present_load': 0,\n",
       "  'present_position': 102,\n",
       "  'present_speed': 0,\n",
       "  'present_temp': 39,\n",
       "  'present_voltage': 119,\n",
       "  'torque_limit': 1023},\n",
       " 3: {'goal_pos': 103,\n",
       "  'moving_speed': 0,\n",
       "  'present_load': 0,\n",
       "  'present_position': 103,\n",
       "  'present_speed': 0,\n",
       "  'present_temp': 39,\n",
       "  'present_voltage': 118,\n",
       "  'torque_limit': 1023},\n",
       " 4: {'goal_pos': 100,\n",
       "  'moving_speed': 0,\n",
       "  'present_load': 24,\n",
       "  'present_position': 102,\n",
       "  'present_speed': 0,\n",
       "  'present_temp': 40,\n",
       "  'present_voltage': 119,\n",
       "  'torque_limit': 1023}}"
      ]
     },
     "execution_count": 55,
     "metadata": {},
     "output_type": "execute_result"
    }
   ],
   "source": [
    "chain.bulk_multi_read([1,2,3,4])"
   ]
  },
  {
   "cell_type": "code",
   "execution_count": 27,
   "metadata": {},
   "outputs": [
    {
     "data": {
      "text/plain": [
       "False"
      ]
     },
     "execution_count": 27,
     "metadata": {},
     "output_type": "execute_result"
    }
   ],
   "source": [
    "[] == True"
   ]
  },
  {
   "cell_type": "code",
   "execution_count": 318,
   "metadata": {},
   "outputs": [
    {
     "data": {
      "text/plain": [
       "1023"
      ]
     },
     "execution_count": 318,
     "metadata": {},
     "output_type": "execute_result"
    }
   ],
   "source": [
    "chain.motors[5].registers['torque_limit'].fromdxl([255,3])"
   ]
  },
  {
   "cell_type": "code",
   "execution_count": 319,
   "metadata": {},
   "outputs": [
    {
     "data": {
      "text/plain": [
       "(0, 100, 1032)"
      ]
     },
     "execution_count": 319,
     "metadata": {},
     "output_type": "execute_result"
    }
   ],
   "source": [
    "chain.get_reg(5, 'goal_pos'), chain.get_reg(1, 'moving_speed'), chain.get_reg(1, 'present_load')"
   ]
  },
  {
   "cell_type": "code",
   "execution_count": 109,
   "metadata": {},
   "outputs": [
    {
     "data": {
      "text/plain": [
       "{'address': 43,\n",
       " 'eeprom': False,\n",
       " 'fromdxl': <function dxlregisters.DxlRegisterByte.__init__.<locals>.<lambda>>,\n",
       " 'fromsi': <function dxlregisters.DxlRegisterByte.<lambda>>,\n",
       " 'mode': 'r',\n",
       " 'range': None,\n",
       " 'size': 1,\n",
       " 'todxl': <function dxlregisters.DxlRegisterByte.__init__.<locals>.<lambda>>,\n",
       " 'tosi': <function dxlregisters.DxlRegisterByte.<lambda>>}"
      ]
     },
     "execution_count": 109,
     "metadata": {},
     "output_type": "execute_result"
    }
   ],
   "source": [
    "chain.motors[1].registers['present_temp'].__dict__"
   ]
  },
  {
   "cell_type": "code",
   "execution_count": 79,
   "metadata": {},
   "outputs": [
    {
     "data": {
      "text/plain": [
       "(100, 100)"
      ]
     },
     "execution_count": 79,
     "metadata": {},
     "output_type": "execute_result"
    }
   ],
   "source": [
    "chain.get_reg(1, 'goal_pos'), chain.get_reg(1, 'moving_speed')"
   ]
  },
  {
   "cell_type": "code",
   "execution_count": 63,
   "metadata": {},
   "outputs": [],
   "source": [
    "chain.set_reg(1, 'goal_pos', 100), chain."
   ]
  },
  {
   "cell_type": "code",
   "execution_count": 17,
   "metadata": {},
   "outputs": [],
   "source": [
    "chain.set_reg(1, 'torque_enable', 0)"
   ]
  },
  {
   "cell_type": "code",
   "execution_count": 33,
   "metadata": {
    "ExecuteTime": {
     "end_time": "2018-08-13T18:15:45.209111Z",
     "start_time": "2018-08-13T18:15:45.099257Z"
    }
   },
   "outputs": [],
   "source": [
    "chain.goto(5, 100, speed=100)"
   ]
  },
  {
   "cell_type": "code",
   "execution_count": 10,
   "metadata": {
    "ExecuteTime": {
     "end_time": "2018-08-14T17:12:57.322106Z",
     "start_time": "2018-08-14T17:12:57.315334Z"
    }
   },
   "outputs": [
    {
     "data": {
      "text/plain": [
       "24.162617417289816"
      ]
     },
     "execution_count": 10,
     "metadata": {},
     "output_type": "execute_result"
    }
   ],
   "source": [
    "chain.motors[1].speed_to_si(2024)\n",
    "            "
   ]
  },
  {
   "cell_type": "code",
   "execution_count": 34,
   "metadata": {
    "ExecuteTime": {
     "end_time": "2018-08-13T18:15:45.943282Z",
     "start_time": "2018-08-13T18:15:45.939209Z"
    }
   },
   "outputs": [],
   "source": [
    "pos = 2000"
   ]
  },
  {
   "cell_type": "code",
   "execution_count": 14,
   "metadata": {
    "ExecuteTime": {
     "end_time": "2018-08-13T16:15:11.138216Z",
     "start_time": "2018-08-13T16:15:11.133352Z"
    }
   },
   "outputs": [],
   "source": [
    "chain.sync_writepos_speed([1], [pos, pos,pos], [100, 500,1000])"
   ]
  },
  {
   "cell_type": "code",
   "execution_count": 19,
   "metadata": {
    "ExecuteTime": {
     "end_time": "2018-10-18T07:44:14.641236Z",
     "start_time": "2018-10-18T07:44:14.633337Z"
    }
   },
   "outputs": [
    {
     "data": {
      "text/plain": [
       "{1: 1397, 2: 1574, 3: 1551, 4: 2288}"
      ]
     },
     "execution_count": 19,
     "metadata": {},
     "output_type": "execute_result"
    }
   ],
   "source": [
    "chain.get_position()"
   ]
  },
  {
   "cell_type": "code",
   "execution_count": 31,
   "metadata": {
    "ExecuteTime": {
     "end_time": "2018-08-13T14:06:26.910662Z",
     "start_time": "2018-08-13T14:06:26.901621Z"
    }
   },
   "outputs": [
    {
     "data": {
      "text/plain": [
       "[(1, 1998), (2, 1998), (3, 1997)]"
      ]
     },
     "execution_count": 31,
     "metadata": {},
     "output_type": "execute_result"
    }
   ],
   "source": [
    "chain.sync_read_pos([1,2,3])"
   ]
  },
  {
   "cell_type": "code",
   "execution_count": null,
   "metadata": {},
   "outputs": [],
   "source": [
    "chain.sync_read_([1,2,3])"
   ]
  },
  {
   "cell_type": "code",
   "execution_count": 56,
   "metadata": {
    "ExecuteTime": {
     "end_time": "2018-08-13T16:18:36.561215Z",
     "start_time": "2018-08-13T16:18:36.338251Z"
    },
    "scrolled": false
   },
   "outputs": [
    {
     "data": {
      "text/plain": [
       "OrderedDict([(1,\n",
       "              OrderedDict([('model_number', 310),\n",
       "                           ('firmware', 39),\n",
       "                           ('id', 1),\n",
       "                           ('baud_rate', 1),\n",
       "                           ('return_delay', 0),\n",
       "                           ('cw_angle_limit', 0),\n",
       "                           ('ccw_angle_limit', 0),\n",
       "                           ('high_temp_limit', 80),\n",
       "                           ('low_voltage_limit', 60),\n",
       "                           ('high_voltage_limit', 160),\n",
       "                           ('max_torque', 1023),\n",
       "                           ('status_return_level', 2),\n",
       "                           ('alarm_led', 36),\n",
       "                           ('alarm_shutdown', 36),\n",
       "                           ('torque_enable', 0),\n",
       "                           ('led', 0),\n",
       "                           ('d_gain', 0),\n",
       "                           ('i_gain', 0),\n",
       "                           ('p_gain', 32),\n",
       "                           ('goal_pos', 102),\n",
       "                           ('moving_speed', 100),\n",
       "                           ('torque_limit', 1023),\n",
       "                           ('present_position', 102),\n",
       "                           ('present_speed', 0),\n",
       "                           ('present_load', 0),\n",
       "                           ('present_voltage', 119),\n",
       "                           ('present_temp', 37),\n",
       "                           ('registered', 0),\n",
       "                           ('moving', 0),\n",
       "                           ('lock', 0),\n",
       "                           ('punch', 0),\n",
       "                           ('torque_control_mode_enable', 0),\n",
       "                           ('goal_torque', 0)])),\n",
       "             (2,\n",
       "              OrderedDict([('model_number', 29),\n",
       "                           ('firmware', 39),\n",
       "                           ('id', 2),\n",
       "                           ('baud_rate', 1),\n",
       "                           ('return_delay', 0),\n",
       "                           ('cw_angle_limit', 0),\n",
       "                           ('ccw_angle_limit', 0),\n",
       "                           ('high_temp_limit', 80),\n",
       "                           ('low_voltage_limit', 60),\n",
       "                           ('high_voltage_limit', 160),\n",
       "                           ('max_torque', 1023),\n",
       "                           ('status_return_level', 2),\n",
       "                           ('alarm_led', 36),\n",
       "                           ('alarm_shutdown', 36),\n",
       "                           ('torque_enable', 0),\n",
       "                           ('led', 0),\n",
       "                           ('d_gain', 0),\n",
       "                           ('i_gain', 0),\n",
       "                           ('p_gain', 32),\n",
       "                           ('goal_pos', 101),\n",
       "                           ('moving_speed', 0),\n",
       "                           ('torque_limit', 1023),\n",
       "                           ('present_position', 101),\n",
       "                           ('present_speed', 0),\n",
       "                           ('present_load', 0),\n",
       "                           ('present_voltage', 119),\n",
       "                           ('present_temp', 39),\n",
       "                           ('registered', 0),\n",
       "                           ('moving', 0),\n",
       "                           ('lock', 0),\n",
       "                           ('punch', 0),\n",
       "                           ('torque_control_mode_enable', 0),\n",
       "                           ('goal_torque', 0)])),\n",
       "             (3,\n",
       "              OrderedDict([('model_number', 29),\n",
       "                           ('firmware', 39),\n",
       "                           ('id', 3),\n",
       "                           ('baud_rate', 1),\n",
       "                           ('return_delay', 0),\n",
       "                           ('cw_angle_limit', 0),\n",
       "                           ('ccw_angle_limit', 0),\n",
       "                           ('high_temp_limit', 80),\n",
       "                           ('low_voltage_limit', 60),\n",
       "                           ('high_voltage_limit', 160),\n",
       "                           ('max_torque', 1023),\n",
       "                           ('status_return_level', 2),\n",
       "                           ('alarm_led', 36),\n",
       "                           ('alarm_shutdown', 36),\n",
       "                           ('torque_enable', 0),\n",
       "                           ('led', 0),\n",
       "                           ('d_gain', 0),\n",
       "                           ('i_gain', 0),\n",
       "                           ('p_gain', 32),\n",
       "                           ('goal_pos', 103),\n",
       "                           ('moving_speed', 0),\n",
       "                           ('torque_limit', 1023),\n",
       "                           ('present_position', 103),\n",
       "                           ('present_speed', 0),\n",
       "                           ('present_load', 0),\n",
       "                           ('present_voltage', 118),\n",
       "                           ('present_temp', 39),\n",
       "                           ('registered', 0),\n",
       "                           ('moving', 0),\n",
       "                           ('lock', 0),\n",
       "                           ('punch', 0),\n",
       "                           ('torque_control_mode_enable', 0),\n",
       "                           ('goal_torque', 0)])),\n",
       "             (4,\n",
       "              OrderedDict([('model_number', 29),\n",
       "                           ('firmware', 39),\n",
       "                           ('id', 4),\n",
       "                           ('baud_rate', 1),\n",
       "                           ('return_delay', 0),\n",
       "                           ('cw_angle_limit', 0),\n",
       "                           ('ccw_angle_limit', 4095),\n",
       "                           ('high_temp_limit', 80),\n",
       "                           ('low_voltage_limit', 60),\n",
       "                           ('high_voltage_limit', 160),\n",
       "                           ('max_torque', 1023),\n",
       "                           ('status_return_level', 1),\n",
       "                           ('alarm_led', 36),\n",
       "                           ('alarm_shutdown', 36),\n",
       "                           ('torque_enable', 1),\n",
       "                           ('led', 0),\n",
       "                           ('d_gain', 0),\n",
       "                           ('i_gain', 0),\n",
       "                           ('p_gain', 32),\n",
       "                           ('goal_pos', 100),\n",
       "                           ('moving_speed', 0),\n",
       "                           ('torque_limit', 1023),\n",
       "                           ('present_position', 102),\n",
       "                           ('present_speed', 0),\n",
       "                           ('present_load', 24),\n",
       "                           ('present_voltage', 119),\n",
       "                           ('present_temp', 40),\n",
       "                           ('registered', 0),\n",
       "                           ('moving', 0),\n",
       "                           ('lock', 0),\n",
       "                           ('punch', 0),\n",
       "                           ('torque_control_mode_enable', 0),\n",
       "                           ('goal_torque', 0)])),\n",
       "             (5,\n",
       "              OrderedDict([('model_number', 12),\n",
       "                           ('firmware', 24),\n",
       "                           ('id', 5),\n",
       "                           ('baud_rate', 1),\n",
       "                           ('return_delay', 0),\n",
       "                           ('cw_angle_limit', 0),\n",
       "                           ('ccw_angle_limit', 1023),\n",
       "                           ('high_temp_limit', 70),\n",
       "                           ('low_voltage_limit', 60),\n",
       "                           ('high_voltage_limit', 140),\n",
       "                           ('max_torque', 1023),\n",
       "                           ('status_return_level', 2),\n",
       "                           ('alarm_led', 36),\n",
       "                           ('alarm_shutdown', 36),\n",
       "                           ('torque_enable', 1),\n",
       "                           ('led', 0),\n",
       "                           ('cw_compliance_margin', 1),\n",
       "                           ('ccw_compliance_margin', 1),\n",
       "                           ('cw_compliance_slope', 32),\n",
       "                           ('ccw_compliance_slope', 32),\n",
       "                           ('goal_pos', 100),\n",
       "                           ('moving_speed', 0),\n",
       "                           ('torque_limit', 1023),\n",
       "                           ('present_position', 101),\n",
       "                           ('present_speed', 0),\n",
       "                           ('present_load', 0),\n",
       "                           ('present_voltage', 121),\n",
       "                           ('present_temp', 40),\n",
       "                           ('registered', 0),\n",
       "                           ('moving', 0),\n",
       "                           ('lock', 0),\n",
       "                           ('punch', 32)]))])"
      ]
     },
     "execution_count": 56,
     "metadata": {},
     "output_type": "execute_result"
    }
   ],
   "source": [
    "chain.get_configuration()"
   ]
  },
  {
   "cell_type": "code",
   "execution_count": 15,
   "metadata": {
    "ExecuteTime": {
     "end_time": "2018-10-18T07:44:01.774121Z",
     "start_time": "2018-10-18T07:44:01.586476Z"
    }
   },
   "outputs": [],
   "source": [
    "import numpy as np\n",
    "import matplotlib.pyplot as plt\n",
    "import time\n",
    "# %matplotlib "
   ]
  },
  {
   "cell_type": "code",
   "execution_count": 35,
   "metadata": {
    "ExecuteTime": {
     "end_time": "2018-10-18T08:08:13.515204Z",
     "start_time": "2018-10-18T08:08:00.549651Z"
    }
   },
   "outputs": [],
   "source": [
    "data=[]\n",
    "loaddata=[]\n",
    "ctrl=[]\n",
    "motors=[1,2,3,4]\n",
    "for t in range(1000):\n",
    "    pos = np.sin(t/50.0)*1000+2048\n",
    "    chain.sync_write_pos_speed(motors, [pos] * len(motors), [i*200 + 100 for i in motors])\n",
    "    time.sleep(0.01)    \n",
    "    new_pos = [0] * len(motors)    \n",
    "    new_load = [0] * len(motors)    \n",
    "    for i,v in chain.sync_read_pos(motors).items():\n",
    "        new_pos[i-1]=v\n",
    "    for i,v in chain.sync_read_load(motors).items():\n",
    "        new_load[i-1]=v\n",
    "    #for i in motors:\n",
    "    #    v = chain.get_position(i)\n",
    "    #    new_pos[i-1]=v[i]\n",
    "    \n",
    "    data.append(new_pos)\n",
    "    loaddata.append(new_load)\n",
    "    ctrl.append(pos)\n",
    "data=np.asarray(data)\n",
    "loaddata=np.asarray(loaddata)"
   ]
  },
  {
   "cell_type": "code",
   "execution_count": 17,
   "metadata": {
    "ExecuteTime": {
     "end_time": "2018-10-18T07:44:08.263505Z",
     "start_time": "2018-10-18T07:44:08.258110Z"
    }
   },
   "outputs": [],
   "source": [
    "chain.enable()"
   ]
  },
  {
   "cell_type": "code",
   "execution_count": 37,
   "metadata": {
    "ExecuteTime": {
     "end_time": "2018-10-18T08:08:13.648718Z",
     "start_time": "2018-10-18T08:08:13.643729Z"
    }
   },
   "outputs": [],
   "source": [
    "chain.disable()"
   ]
  },
  {
   "cell_type": "code",
   "execution_count": 57,
   "metadata": {
    "ExecuteTime": {
     "end_time": "2018-10-18T08:16:20.091737Z",
     "start_time": "2018-10-18T08:16:19.962113Z"
    }
   },
   "outputs": [
    {
     "data": {
      "text/plain": [
       "[<matplotlib.lines.Line2D at 0x7fc3e5395358>]"
      ]
     },
     "execution_count": 57,
     "metadata": {},
     "output_type": "execute_result"
    },
    {
     "data": {
      "image/png": "[encoded data removed]",
      "text/plain": [
       "<Figure size 432x288 with 1 Axes>"
      ]
     },
     "metadata": {},
     "output_type": "display_data"
    }
   ],
   "source": [
    "plt.plot(ctrl)\n",
    "plt.plot(data[:,0])\n",
    "plt.plot(loaddata[:,0])\n",
    "plt.plot(correctload)\n"
   ]
  },
  {
   "cell_type": "code",
   "execution_count": 50,
   "metadata": {
    "ExecuteTime": {
     "end_time": "2018-10-18T08:12:13.920438Z",
     "start_time": "2018-10-18T08:12:13.909313Z"
    }
   },
   "outputs": [
    {
     "data": {
      "text/plain": [
       "array([-1, -1, -1, -1, -1, -1, -1, -1, -1, -1, -1, -1, -1, -1, -1, -1, -1,\n",
       "       -1,  1,  1,  1,  1,  1,  1,  1,  1,  1,  1,  1,  1,  1,  1,  1,  1,\n",
       "        1,  1,  1,  1,  1,  1,  1,  1,  1,  1,  1,  1,  1,  1,  1,  1,  1,\n",
       "        1,  1,  1,  1,  1,  1,  1,  1,  1,  1,  1,  1,  1,  1,  1,  1,  1,\n",
       "        1,  1,  1,  1,  1,  1,  1,  1,  1,  1,  1,  1,  1,  1,  1, -1, -1,\n",
       "       -1, -1, -1, -1, -1, -1, -1, -1, -1, -1, -1, -1, -1, -1, -1, -1, -1,\n",
       "       -1, -1, -1, -1, -1, -1, -1, -1, -1, -1, -1, -1, -1, -1, -1, -1, -1,\n",
       "       -1, -1, -1, -1, -1, -1, -1, -1, -1, -1, -1, -1, -1, -1, -1, -1, -1,\n",
       "       -1, -1, -1, -1, -1, -1, -1, -1, -1, -1, -1, -1, -1, -1, -1, -1, -1,\n",
       "       -1, -1, -1, -1, -1, -1, -1, -1, -1, -1, -1, -1, -1, -1, -1, -1, -1,\n",
       "       -1, -1, -1, -1, -1, -1, -1, -1, -1, -1, -1, -1, -1, -1, -1, -1, -1,\n",
       "       -1, -1, -1, -1, -1, -1, -1, -1, -1, -1, -1, -1, -1, -1, -1, -1, -1,\n",
       "       -1, -1, -1, -1, -1, -1, -1, -1, -1, -1, -1, -1, -1, -1, -1, -1, -1,\n",
       "       -1, -1, -1, -1, -1, -1, -1, -1, -1, -1, -1, -1, -1, -1, -1, -1, -1,\n",
       "       -1, -1, -1,  1,  1,  1,  1,  1,  1,  1,  1,  1,  1,  1,  1,  1,  1,\n",
       "        1,  1,  1,  1,  1,  1,  1,  1,  1,  1,  1,  1,  1,  1,  1,  1,  1,\n",
       "        1,  1,  1,  1,  1,  1,  1,  1,  1,  1,  1,  1,  1,  1,  1,  1,  1,\n",
       "        1,  1,  1,  1,  1,  1,  1,  1,  1,  1,  1,  1,  1,  1,  1,  1,  1,\n",
       "        1,  1,  1,  1,  1,  1,  1,  1,  1,  1,  1,  1,  1,  1,  1,  1,  1,\n",
       "        1,  1,  1,  1,  1,  1,  1,  1,  1,  1,  1,  1,  1,  1,  1,  1,  1,\n",
       "        1,  1,  1,  1,  1,  1,  1,  1,  1,  1,  1,  1,  1,  1,  1,  1,  1,\n",
       "        1,  1,  1,  1,  1,  1,  1,  1,  1,  1,  1,  1,  1,  1,  1,  1,  1,\n",
       "        1,  1,  1,  1,  1,  1,  1,  1,  1,  1,  1,  1,  1,  1,  1,  1,  1,\n",
       "        1,  1,  1,  1,  1,  1, -1, -1, -1, -1, -1, -1, -1, -1, -1, -1, -1,\n",
       "       -1, -1, -1, -1, -1, -1, -1, -1, -1, -1, -1, -1, -1, -1, -1, -1, -1,\n",
       "       -1, -1, -1, -1, -1, -1, -1, -1, -1, -1, -1, -1, -1, -1, -1, -1, -1,\n",
       "       -1, -1, -1, -1, -1, -1, -1, -1, -1, -1, -1, -1, -1, -1, -1, -1, -1,\n",
       "       -1, -1, -1, -1, -1, -1, -1, -1, -1, -1, -1, -1, -1, -1, -1, -1, -1,\n",
       "       -1, -1, -1, -1, -1, -1, -1, -1, -1, -1, -1, -1, -1, -1, -1, -1, -1,\n",
       "       -1, -1, -1, -1, -1, -1, -1, -1, -1, -1, -1, -1, -1, -1, -1, -1, -1,\n",
       "       -1, -1, -1, -1, -1, -1, -1, -1, -1, -1, -1, -1, -1, -1, -1, -1, -1,\n",
       "       -1, -1, -1, -1, -1, -1, -1, -1, -1, -1, -1, -1, -1, -1, -1, -1, -1,\n",
       "       -1, -1, -1, -1, -1, -1, -1, -1, -1, -1, -1,  1,  1,  1,  1,  1,  1,\n",
       "        1,  1,  1,  1,  1,  1,  1,  1,  1,  1,  1,  1,  1,  1,  1,  1,  1,\n",
       "        1,  1,  1,  1,  1,  1,  1,  1,  1,  1,  1,  1,  1,  1,  1,  1,  1,\n",
       "        1,  1,  1,  1,  1,  1,  1,  1,  1,  1,  1,  1,  1,  1,  1,  1,  1,\n",
       "        1,  1,  1,  1,  1,  1,  1,  1,  1,  1,  1,  1,  1,  1,  1,  1,  1,\n",
       "        1,  1,  1,  1,  1,  1,  1,  1,  1,  1,  1,  1,  1,  1,  1,  1,  1,\n",
       "        1,  1,  1,  1,  1,  1,  1,  1,  1,  1,  1,  1,  1,  1,  1,  1,  1,\n",
       "        1,  1,  1,  1,  1,  1,  1,  1,  1,  1,  1,  1,  1,  1,  1,  1,  1,\n",
       "        1,  1,  1,  1,  1,  1,  1, -1,  1,  1,  1,  1,  1,  1,  1,  1,  1,\n",
       "        1,  1,  1,  1,  1,  1,  1,  1,  1,  1,  1,  1,  1,  1, -1, -1, -1,\n",
       "       -1, -1, -1, -1, -1, -1, -1, -1, -1, -1, -1, -1, -1, -1, -1, -1, -1,\n",
       "       -1, -1, -1, -1, -1, -1, -1, -1, -1, -1, -1, -1, -1, -1, -1, -1, -1,\n",
       "       -1, -1, -1, -1, -1, -1, -1, -1, -1, -1, -1, -1, -1, -1, -1, -1, -1,\n",
       "       -1, -1, -1, -1, -1, -1, -1, -1, -1, -1, -1, -1, -1, -1, -1, -1, -1,\n",
       "       -1, -1, -1, -1, -1, -1, -1, -1, -1, -1, -1, -1, -1, -1, -1, -1, -1,\n",
       "       -1, -1, -1, -1, -1, -1, -1, -1, -1, -1, -1, -1, -1, -1, -1, -1, -1,\n",
       "       -1, -1, -1, -1, -1, -1, -1, -1, -1, -1, -1, -1, -1, -1, -1, -1, -1,\n",
       "       -1, -1, -1, -1, -1, -1, -1, -1, -1, -1, -1, -1, -1, -1, -1, -1, -1,\n",
       "       -1, -1, -1, -1, -1, -1, -1, -1, -1, -1, -1, -1, -1, -1, -1, -1, -1,\n",
       "       -1, -1,  1,  1,  1,  1,  1,  1,  1,  1,  1,  1,  1,  1,  1,  1,  1,\n",
       "        1,  1,  1,  1,  1,  1,  1,  1,  1,  1,  1,  1,  1,  1,  1,  1,  1,\n",
       "        1,  1,  1,  1,  1,  1,  1,  1,  1,  1,  1,  1,  1,  1,  1,  1,  1,\n",
       "        1,  1,  1,  1,  1,  1,  1,  1,  1,  1,  1,  1,  1,  1,  1,  1,  1,\n",
       "        1,  1,  1,  1,  1,  1,  1,  1,  1,  1,  1,  1,  1,  1,  1,  1,  1,\n",
       "        1,  1,  1,  1,  1,  1,  1,  1,  1,  1,  1,  1,  1,  1,  1,  1,  1,\n",
       "        1,  1,  1,  1,  1,  1,  1,  1,  1,  1,  1,  1,  1,  1,  1,  1,  1,\n",
       "        1,  1,  1,  1,  1,  1,  1,  1,  1,  1,  1,  1,  1,  1])"
      ]
     },
     "execution_count": 50,
     "metadata": {},
     "output_type": "execute_result"
    }
   ],
   "source": [
    "(((loaddata[:,0]>>10) & 1)*2-1)"
   ]
  },
  {
   "cell_type": "code",
   "execution_count": 56,
   "metadata": {
    "ExecuteTime": {
     "end_time": "2018-10-18T08:16:11.118761Z",
     "start_time": "2018-10-18T08:16:11.113816Z"
    }
   },
   "outputs": [],
   "source": [
    "sign = -((loaddata[:,0]>>10) & 1)*2+1\n",
    "correctload = (loaddata[:,0]&1023) * sign"
   ]
  },
  {
   "cell_type": "code",
   "execution_count": 20,
   "metadata": {
    "ExecuteTime": {
     "end_time": "2018-10-09T07:33:07.633997Z",
     "start_time": "2018-10-09T07:33:07.211953Z"
    }
   },
   "outputs": [
    {
     "ename": "DxlCommunicationException",
     "evalue": "Could not read first 4 bytes of expected response, got 0 bytes",
     "output_type": "error",
     "traceback": [
      "\u001b[0;31m---------------------------------------------------------------------------\u001b[0m",
      "\u001b[0;31mDxlCommunicationException\u001b[0m                 Traceback (most recent call last)",
      "\u001b[0;32m<ipython-input-20-6f78b8c37621>\u001b[0m in \u001b[0;36m<module>\u001b[0;34m()\u001b[0m\n\u001b[0;32m----> 1\u001b[0;31m \u001b[0mchain\u001b[0m\u001b[0;34m.\u001b[0m\u001b[0msync_read_pos\u001b[0m\u001b[0;34m(\u001b[0m\u001b[0;34m[\u001b[0m\u001b[0;36m43\u001b[0m\u001b[0;34m,\u001b[0m\u001b[0;36m44\u001b[0m\u001b[0;34m,\u001b[0m\u001b[0;36m36\u001b[0m\u001b[0;34m]\u001b[0m\u001b[0;34m)\u001b[0m\u001b[0;34m\u001b[0m\u001b[0m\n\u001b[0m",
      "\u001b[0;32m~_local/projects/Poppy/poppy-al/lib/dynamixel_hr/dxl/dxlchain.py\u001b[0m in \u001b[0;36msync_read_pos\u001b[0;34m(self, ids)\u001b[0m\n\u001b[1;32m    510\u001b[0m \u001b[0;34m\u001b[0m\u001b[0m\n\u001b[1;32m    511\u001b[0m     \u001b[0;32mdef\u001b[0m \u001b[0msync_read_pos\u001b[0m\u001b[0;34m(\u001b[0m\u001b[0mself\u001b[0m\u001b[0;34m,\u001b[0m \u001b[0mids\u001b[0m\u001b[0;34m=\u001b[0m\u001b[0;32mNone\u001b[0m\u001b[0;34m)\u001b[0m\u001b[0;34m:\u001b[0m\u001b[0;34m\u001b[0m\u001b[0m\n\u001b[0;32m--> 512\u001b[0;31m         \u001b[0;32mreturn\u001b[0m \u001b[0mself\u001b[0m\u001b[0;34m.\u001b[0m\u001b[0m_sync_read_X_wrapper\u001b[0m\u001b[0;34m(\u001b[0m\u001b[0mids\u001b[0m\u001b[0;34m,\u001b[0m \u001b[0;34m'present_position'\u001b[0m\u001b[0;34m)\u001b[0m\u001b[0;34m\u001b[0m\u001b[0m\n\u001b[0m\u001b[1;32m    513\u001b[0m \u001b[0;34m\u001b[0m\u001b[0m\n\u001b[1;32m    514\u001b[0m     \u001b[0;32mdef\u001b[0m \u001b[0msync_read_speed\u001b[0m\u001b[0;34m(\u001b[0m\u001b[0mself\u001b[0m\u001b[0;34m,\u001b[0m \u001b[0mids\u001b[0m\u001b[0;34m=\u001b[0m\u001b[0;32mNone\u001b[0m\u001b[0;34m)\u001b[0m\u001b[0;34m:\u001b[0m\u001b[0;34m\u001b[0m\u001b[0m\n",
      "\u001b[0;32m~_local/projects/Poppy/poppy-al/lib/dynamixel_hr/dxl/dxlchain.py\u001b[0m in \u001b[0;36m_sync_read_X_wrapper\u001b[0;34m(self, ids, register)\u001b[0m\n\u001b[1;32m    525\u001b[0m         \u001b[0;32mif\u001b[0m \u001b[0mids\u001b[0m \u001b[0;32mis\u001b[0m \u001b[0;32mNone\u001b[0m\u001b[0;34m:\u001b[0m\u001b[0;34m\u001b[0m\u001b[0m\n\u001b[1;32m    526\u001b[0m             \u001b[0mids\u001b[0m \u001b[0;34m=\u001b[0m \u001b[0mself\u001b[0m\u001b[0;34m.\u001b[0m\u001b[0mmotors\u001b[0m\u001b[0;34m\u001b[0m\u001b[0m\n\u001b[0;32m--> 527\u001b[0;31m         \u001b[0;32mreturn\u001b[0m \u001b[0mdict\u001b[0m\u001b[0;34m(\u001b[0m\u001b[0mself\u001b[0m\u001b[0;34m.\u001b[0m\u001b[0mbulk_read\u001b[0m\u001b[0;34m(\u001b[0m\u001b[0mids\u001b[0m\u001b[0;34m,\u001b[0m \u001b[0;34m[\u001b[0m\u001b[0mregister\u001b[0m\u001b[0;34m]\u001b[0m \u001b[0;34m*\u001b[0m \u001b[0mlen\u001b[0m\u001b[0;34m(\u001b[0m\u001b[0mids\u001b[0m\u001b[0;34m)\u001b[0m\u001b[0;34m)\u001b[0m\u001b[0;34m)\u001b[0m\u001b[0;34m\u001b[0m\u001b[0m\n\u001b[0m\u001b[1;32m    528\u001b[0m \u001b[0;34m\u001b[0m\u001b[0m\n\u001b[1;32m    529\u001b[0m \u001b[0;34m\u001b[0m\u001b[0m\n",
      "\u001b[0;32m~_local/projects/Poppy/poppy-al/lib/dynamixel_hr/dxl/dxlchain.py\u001b[0m in \u001b[0;36mbulk_read\u001b[0;34m(self, ids, reg_names)\u001b[0m\n\u001b[1;32m    425\u001b[0m \u001b[0;34m\u001b[0m\u001b[0m\n\u001b[1;32m    426\u001b[0m         \u001b[0;32mfor\u001b[0m \u001b[0m_\u001b[0m \u001b[0;32min\u001b[0m \u001b[0mrange\u001b[0m\u001b[0;34m(\u001b[0m\u001b[0mlen\u001b[0m\u001b[0;34m(\u001b[0m\u001b[0mids\u001b[0m\u001b[0;34m)\u001b[0m\u001b[0;34m)\u001b[0m\u001b[0;34m:\u001b[0m\u001b[0;34m\u001b[0m\u001b[0m\n\u001b[0;32m--> 427\u001b[0;31m             \u001b[0;34m(\u001b[0m\u001b[0mnid\u001b[0m\u001b[0;34m,\u001b[0m \u001b[0mdata\u001b[0m\u001b[0;34m)\u001b[0m \u001b[0;34m=\u001b[0m \u001b[0mself\u001b[0m\u001b[0;34m.\u001b[0m\u001b[0mrecv\u001b[0m\u001b[0;34m(\u001b[0m\u001b[0;34m)\u001b[0m\u001b[0;34m\u001b[0m\u001b[0m\n\u001b[0m\u001b[1;32m    428\u001b[0m             \u001b[0mm\u001b[0m \u001b[0;34m=\u001b[0m \u001b[0mself\u001b[0m\u001b[0;34m.\u001b[0m\u001b[0mmotors\u001b[0m\u001b[0;34m[\u001b[0m\u001b[0mnid\u001b[0m\u001b[0;34m]\u001b[0m\u001b[0;34m\u001b[0m\u001b[0m\n\u001b[1;32m    429\u001b[0m             \u001b[0mreg_name\u001b[0m \u001b[0;34m=\u001b[0m\u001b[0mreg_names\u001b[0m\u001b[0;34m[\u001b[0m\u001b[0mids\u001b[0m\u001b[0;34m.\u001b[0m\u001b[0mindex\u001b[0m\u001b[0;34m(\u001b[0m\u001b[0mnid\u001b[0m\u001b[0;34m)\u001b[0m\u001b[0;34m]\u001b[0m\u001b[0;34m\u001b[0m\u001b[0m\n",
      "\u001b[0;32m~_local/projects/Poppy/poppy-al/lib/dynamixel_hr/dxl/dxlchain.py\u001b[0m in \u001b[0;36mrecv\u001b[0;34m(self)\u001b[0m\n\u001b[1;32m     98\u001b[0m         \u001b[0;34m\"\"\"Wait for a response on the serial, validate it, raise errors if any, return id and data if any\"\"\"\u001b[0m\u001b[0;34m\u001b[0m\u001b[0m\n\u001b[1;32m     99\u001b[0m         \u001b[0;32mwith\u001b[0m \u001b[0mself\u001b[0m\u001b[0;34m.\u001b[0m\u001b[0mlock\u001b[0m\u001b[0;34m:\u001b[0m\u001b[0;34m\u001b[0m\u001b[0m\n\u001b[0;32m--> 100\u001b[0;31m             \u001b[0;32mreturn\u001b[0m \u001b[0mself\u001b[0m\u001b[0;34m.\u001b[0m\u001b[0m_recv\u001b[0m\u001b[0;34m(\u001b[0m\u001b[0;34m)\u001b[0m\u001b[0;34m\u001b[0m\u001b[0m\n\u001b[0m\u001b[1;32m    101\u001b[0m \u001b[0;34m\u001b[0m\u001b[0m\n\u001b[1;32m    102\u001b[0m     \u001b[0;32mdef\u001b[0m \u001b[0m_recv\u001b[0m\u001b[0;34m(\u001b[0m\u001b[0mself\u001b[0m\u001b[0;34m)\u001b[0m\u001b[0;34m:\u001b[0m\u001b[0;34m\u001b[0m\u001b[0m\n",
      "\u001b[0;32m~_local/projects/Poppy/poppy-al/lib/dynamixel_hr/dxl/dxlchain.py\u001b[0m in \u001b[0;36m_recv\u001b[0;34m(self)\u001b[0m\n\u001b[1;32m    105\u001b[0m         \u001b[0mheader\u001b[0m \u001b[0;34m=\u001b[0m \u001b[0marray\u001b[0m\u001b[0;34m.\u001b[0m\u001b[0marray\u001b[0m\u001b[0;34m(\u001b[0m\u001b[0;34m'B'\u001b[0m\u001b[0;34m,\u001b[0m\u001b[0mself\u001b[0m\u001b[0;34m.\u001b[0m\u001b[0mport\u001b[0m\u001b[0;34m.\u001b[0m\u001b[0mread\u001b[0m\u001b[0;34m(\u001b[0m\u001b[0;36m4\u001b[0m\u001b[0;34m)\u001b[0m\u001b[0;34m)\u001b[0m\u001b[0;34m\u001b[0m\u001b[0m\n\u001b[1;32m    106\u001b[0m         \u001b[0;32mif\u001b[0m\u001b[0;34m(\u001b[0m\u001b[0mlen\u001b[0m\u001b[0;34m(\u001b[0m\u001b[0mheader\u001b[0m\u001b[0;34m)\u001b[0m\u001b[0;34m!=\u001b[0m\u001b[0;36m4\u001b[0m\u001b[0;34m)\u001b[0m\u001b[0;34m:\u001b[0m\u001b[0;34m\u001b[0m\u001b[0m\n\u001b[0;32m--> 107\u001b[0;31m             \u001b[0;32mraise\u001b[0m \u001b[0mDxlCommunicationException\u001b[0m\u001b[0;34m(\u001b[0m\u001b[0;34m'Could not read first 4 bytes of expected response, got %d bytes'\u001b[0m\u001b[0;34m%\u001b[0m\u001b[0mlen\u001b[0m\u001b[0;34m(\u001b[0m\u001b[0mheader\u001b[0m\u001b[0;34m)\u001b[0m\u001b[0;34m)\u001b[0m\u001b[0;34m\u001b[0m\u001b[0m\n\u001b[0m\u001b[1;32m    108\u001b[0m         \u001b[0;32melse\u001b[0m \u001b[0;34m:\u001b[0m\u001b[0;34m\u001b[0m\u001b[0m\n\u001b[1;32m    109\u001b[0m             \u001b[0mid\u001b[0m\u001b[0;34m,\u001b[0m\u001b[0mexpectedsize\u001b[0m\u001b[0;34m=\u001b[0m\u001b[0mheader\u001b[0m\u001b[0;34m[\u001b[0m\u001b[0;36m2\u001b[0m\u001b[0;34m:\u001b[0m\u001b[0;36m4\u001b[0m\u001b[0;34m]\u001b[0m\u001b[0;34m\u001b[0m\u001b[0m\n",
      "\u001b[0;31mDxlCommunicationException\u001b[0m: Could not read first 4 bytes of expected response, got 0 bytes"
     ]
    }
   ],
   "source": [
    "chain.sync_read_pos([43,44,36])"
   ]
  },
  {
   "cell_type": "code",
   "execution_count": 71,
   "metadata": {
    "ExecuteTime": {
     "end_time": "2018-08-13T17:01:17.307125Z",
     "start_time": "2018-08-13T17:01:17.302883Z"
    }
   },
   "outputs": [],
   "source": [
    "(esize,cmd)=chain.motors[1].getRegisterCmd(\"present_speed\")"
   ]
  },
  {
   "cell_type": "code",
   "execution_count": 58,
   "metadata": {
    "ExecuteTime": {
     "end_time": "2018-08-13T18:23:30.882404Z",
     "start_time": "2018-08-13T18:23:30.874569Z"
    }
   },
   "outputs": [],
   "source": [
    "chain.set_control_mode(1, chain.motors[1].PositionControl)"
   ]
  },
  {
   "cell_type": "code",
   "execution_count": 48,
   "metadata": {
    "ExecuteTime": {
     "end_time": "2018-08-13T18:23:27.958020Z",
     "start_time": "2018-08-13T18:23:27.947702Z"
    }
   },
   "outputs": [],
   "source": [
    "chain.set_control_mode(1, chain.motors[1].SpeedControl)"
   ]
  },
  {
   "cell_type": "code",
   "execution_count": 129,
   "metadata": {
    "ExecuteTime": {
     "end_time": "2018-08-13T17:35:46.566562Z",
     "start_time": "2018-08-13T17:35:46.559728Z"
    }
   },
   "outputs": [],
   "source": [
    "chain.set_reg(1, \"cw_angle_limit\", 0)\n",
    "chain.set_reg(1, \"ccw_angle_limit\", 4095)"
   ]
  },
  {
   "cell_type": "code",
   "execution_count": 47,
   "metadata": {
    "ExecuteTime": {
     "end_time": "2018-08-13T18:17:26.647714Z",
     "start_time": "2018-08-13T18:17:26.642211Z"
    }
   },
   "outputs": [],
   "source": [
    "chain.set_reg(1, \"goal_torque\", 0)"
   ]
  },
  {
   "cell_type": "code",
   "execution_count": 57,
   "metadata": {
    "ExecuteTime": {
     "end_time": "2018-08-13T18:23:29.343477Z",
     "start_time": "2018-08-13T18:23:29.338456Z"
    }
   },
   "outputs": [],
   "source": [
    "chain.set_reg(1, \"moving_speed\", 0)"
   ]
  },
  {
   "cell_type": "code",
   "execution_count": 72,
   "metadata": {
    "ExecuteTime": {
     "end_time": "2018-08-13T18:23:32.655420Z",
     "start_time": "2018-08-13T18:23:32.650356Z"
    }
   },
   "outputs": [],
   "source": [
    "chain.set_reg(1, \"goal_pos\", 400)"
   ]
  },
  {
   "cell_type": "code",
   "execution_count": 53,
   "metadata": {
    "ExecuteTime": {
     "end_time": "2018-08-13T18:20:20.918402Z",
     "start_time": "2018-08-13T18:20:20.911772Z"
    }
   },
   "outputs": [
    {
     "data": {
      "text/plain": [
       "[0, 4095]"
      ]
     },
     "execution_count": 53,
     "metadata": {},
     "output_type": "execute_result"
    }
   ],
   "source": [
    "chain.motors[4].registers[\"goal_pos\"].range"
   ]
  },
  {
   "cell_type": "code",
   "execution_count": 116,
   "metadata": {
    "ExecuteTime": {
     "end_time": "2018-08-13T17:32:41.442374Z",
     "start_time": "2018-08-13T17:32:41.433876Z"
    }
   },
   "outputs": [
    {
     "data": {
      "text/plain": [
       "-620"
      ]
     },
     "execution_count": 116,
     "metadata": {},
     "output_type": "execute_result"
    }
   ],
   "source": [
    "chain.motors[5].si_to_pos(-3.1415)"
   ]
  },
  {
   "cell_type": "code",
   "execution_count": 117,
   "metadata": {
    "ExecuteTime": {
     "end_time": "2018-08-13T17:32:59.144033Z",
     "start_time": "2018-08-13T17:32:59.137878Z"
    }
   },
   "outputs": [
    {
     "data": {
      "text/plain": [
       "0.0"
      ]
     },
     "execution_count": 117,
     "metadata": {},
     "output_type": "execute_result"
    }
   ],
   "source": [
    "chain.motors[5].pos_to_si(0)"
   ]
  },
  {
   "cell_type": "code",
   "execution_count": 118,
   "metadata": {
    "ExecuteTime": {
     "end_time": "2018-08-13T17:33:02.721466Z",
     "start_time": "2018-08-13T17:33:02.714648Z"
    }
   },
   "outputs": [
    {
     "data": {
      "text/plain": [
       "5.182929746722361"
      ]
     },
     "execution_count": 118,
     "metadata": {},
     "output_type": "execute_result"
    }
   ],
   "source": [
    "chain.motors[5].pos_to_si(1024)"
   ]
  },
  {
   "cell_type": "code",
   "execution_count": null,
   "metadata": {},
   "outputs": [],
   "source": []
  }
 ],
 "metadata": {
  "kernelspec": {
   "display_name": "Python 3",
   "language": "python",
   "name": "python3"
  },
  "language_info": {
   "codemirror_mode": {
    "name": "ipython",
    "version": 3
   },
   "file_extension": ".py",
   "mimetype": "text/x-python",
   "name": "python",
   "nbconvert_exporter": "python",
   "pygments_lexer": "ipython3",
   "version": "3.6.3"
  },
  "toc": {
   "base_numbering": 1,
   "nav_menu": {},
   "number_sections": true,
   "sideBar": true,
   "skip_h1_title": false,
   "title_cell": "Table of Contents",
   "title_sidebar": "Contents",
   "toc_cell": false,
   "toc_position": {},
   "toc_section_display": true,
   "toc_window_display": false
  }
 },
 "nbformat": 4,
 "nbformat_minor": 2
}
